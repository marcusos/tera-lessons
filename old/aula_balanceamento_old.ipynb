{
 "cells": [
  {
   "cell_type": "markdown",
   "metadata": {
    "slideshow": {
     "slide_type": "slide"
    },
    "pycharm": {
     "name": "#%% md\n"
    }
   },
   "source": [
    "## O que vamos ver hoje:\n",
    "Bloco 1\n",
    "- Case e contexto de negócio\n",
    "- Revisão Regressão logística (classificação vs regressão)\n",
    "- Revisão Matriz de confusão\n",
    "- Revisão Roc Curve, Precision e recall\n",
    "\n",
    "Bloco 2\n",
    "- Carregando e limpando o dataset\n",
    "- Pre-processamento dos dados\n",
    "- Implementação do modelo"
   ]
  },
  {
   "cell_type": "markdown",
   "metadata": {
    "slideshow": {
     "slide_type": "slide"
    },
    "pycharm": {
     "name": "#%% md\n"
    }
   },
   "source": [
    "## O que vamos ver hoje:\n",
    "Bloco 3\n",
    "- Class weight e hiperparâmetros\n",
    "- Resampling\n",
    "- Under e Over sampling\n",
    "- Smote\n",
    "\n",
    "Bloco 4\n",
    "- Comparando os modelos\n",
    "- Dúvidas"
   ]
  },
  {
   "cell_type": "markdown",
   "metadata": {
    "slideshow": {
     "slide_type": "slide"
    },
    "pycharm": {
     "name": "#%% md\n"
    }
   },
   "source": [
    "## Contexto de negócio\n",
    "A empresa MyBank, visando expandir sua operação, deseja comprar uma carteira de clientes de um emissora de cartão de crédito com sede em Taiwan. Como parte do contrato a MyBank deseja revisar a política de crédito para pelo menos **50% dos possíveis futuros inadimplentes** (ajustar limite e taxa de juros). Além disso, para melhor precificar a compra ela **deseja saber a perda esperada dessa carteira no próximo mês**.\n",
    "\n",
    "Você é um consultor de Data Science contratado pela MyBank para auxiliar a empresa durante essa aquisição."
   ]
  },
  {
   "cell_type": "markdown",
   "metadata": {
    "slideshow": {
     "slide_type": "slide"
    },
    "pycharm": {
     "name": "#%% md\n"
    }
   },
   "source": [
    "## Contexto de negócio\n",
    "**Objetivos**:\n",
    "- Criar um modelo de probabilidade de inadimplência usando os dados históricos da operadora taiwanese\n",
    "- Precificar a perda esperada da nova carteira de clientes"
   ]
  },
  {
   "cell_type": "markdown",
   "metadata": {
    "slideshow": {
     "slide_type": "slide"
    },
    "pycharm": {
     "name": "#%% md\n"
    }
   },
   "source": [
    "## Contexto análitico\n",
    "* **LIMIT_BAL**: Amount of given credit in NT dollars (includes individual and family/supplementary credit\n",
    "* **SEX**: Gender (1=male, 2=female)\n",
    "* **EDUCATION**: (1=graduate school, 2=university, 3=high school, 4=others, 5=unknown, 6=unknown)\n",
    "* **MARRIAGE**: Marital status (1=married, 2=single, 3=others)\n",
    "* **AGE**: Age in years\n",
    "* **PAY_0 - PAY_6**: Repayment status in September-April, 2005\n",
    "    * -1=pay duly, 1=payment delay for one month\n",
    "    *  2=payment delay for two months, … \n",
    "    *  8=payment delay for eight months, 9=payment delay for nine months and above\n",
    "* **BILL_AMT1 - BILL_AMT6**: Amount of bill statement in September-April, 2005 (NT dollar)\n",
    "* **PAY_AMT0 - PAY_AMT6**: Amount of previous payment in September-April, 2005 (NT dollar)                       \n",
    "* **default.payment.next.month**: Default payment (1=yes, 0=no)\n"
   ]
  },
  {
   "cell_type": "markdown",
   "metadata": {
    "slideshow": {
     "slide_type": "slide"
    },
    "pycharm": {
     "name": "#%% md\n"
    }
   },
   "source": [
    "## Revisão Regressão logística"
   ]
  },
  {
   "cell_type": "markdown",
   "metadata": {
    "pycharm": {
     "name": "#%% md\n"
    }
   },
   "source": [
    "$\n",
    "\\begin{align}\n",
    "\\text{Odds}(\\text{default}) = \\frac{p}{1-p} \\\\\n",
    "\\end{align}\n",
    "$\n",
    "\n",
    "$\n",
    "\\begin{align}\n",
    "\\log(\\text{Odds}) = \\beta_0 + \\beta_1*\\text{hours} \\\\\n",
    "\\end{align}\n",
    "$\n",
    "\n",
    "\n",
    "$\n",
    "\\begin{align}\n",
    "p=\\frac{1}{1+e^{-(\\beta_0 + \\beta_1*\\text{hours})}}\n",
    "\\end{align}\n",
    "$\n",
    "\n",
    "![](imgs/logistic_curve.jpeg)"
   ]
  },
  {
   "cell_type": "markdown",
   "metadata": {
    "slideshow": {
     "slide_type": "fragment"
    },
    "pycharm": {
     "name": "#%% md\n"
    }
   },
   "source": [
    "Recap classificação, Recap regressão"
   ]
  },
  {
   "cell_type": "markdown",
   "metadata": {
    "slideshow": {
     "slide_type": "slide"
    },
    "pycharm": {
     "name": "#%% md\n"
    }
   },
   "source": [
    "## Em resumo (Regressão logística)"
   ]
  },
  {
   "cell_type": "markdown",
   "metadata": {
    "pycharm": {
     "name": "#%% md\n"
    }
   },
   "source": [
    "![](imgs/logit_diagram_v1.png)"
   ]
  },
  {
   "cell_type": "markdown",
   "metadata": {
    "slideshow": {
     "slide_type": "slide"
    },
    "pycharm": {
     "name": "#%% md\n"
    }
   },
   "source": [
    "## Interpretando os coeficientes da regressão logística"
   ]
  },
  {
   "cell_type": "code",
   "execution_count": 1,
   "metadata": {
    "slideshow": {
     "slide_type": "skip"
    },
    "pycharm": {
     "name": "#%%\n"
    }
   },
   "outputs": [],
   "source": [
    "import pandas as pd\n",
    "import numpy as np"
   ]
  },
  {
   "cell_type": "code",
   "execution_count": 2,
   "metadata": {
    "slideshow": {
     "slide_type": "-"
    },
    "pycharm": {
     "name": "#%%\n"
    }
   },
   "outputs": [
    {
     "name": "stdout",
     "output_type": "stream",
     "text": [
      "Optimization terminated successfully.\n",
      "         Current function value: 0.528880\n",
      "         Iterations 5\n"
     ]
    },
    {
     "data": {
      "text/html": [
       "<table class=\"simpletable\">\n",
       "<caption>Logit Regression Results</caption>\n",
       "<tr>\n",
       "  <th>Dep. Variable:</th>   <td>default.payment.next.month</td> <th>  No. Observations:  </th>  <td> 29655</td>  \n",
       "</tr>\n",
       "<tr>\n",
       "  <th>Model:</th>                      <td>Logit</td>           <th>  Df Residuals:      </th>  <td> 29653</td>  \n",
       "</tr>\n",
       "<tr>\n",
       "  <th>Method:</th>                      <td>MLE</td>            <th>  Df Model:          </th>  <td>     1</td>  \n",
       "</tr>\n",
       "<tr>\n",
       "  <th>Date:</th>                 <td>Mon, 08 Feb 2021</td>      <th>  Pseudo R-squ.:     </th> <td>0.003147</td> \n",
       "</tr>\n",
       "<tr>\n",
       "  <th>Time:</th>                     <td>18:37:33</td>          <th>  Log-Likelihood:    </th> <td> -15684.</td> \n",
       "</tr>\n",
       "<tr>\n",
       "  <th>converged:</th>                  <td>True</td>            <th>  LL-Null:           </th> <td> -15733.</td> \n",
       "</tr>\n",
       "<tr>\n",
       "  <th>Covariance Type:</th>          <td>nonrobust</td>         <th>  LLR p-value:       </th> <td>2.480e-23</td>\n",
       "</tr>\n",
       "</table>\n",
       "<table class=\"simpletable\">\n",
       "<tr>\n",
       "      <td></td>         <th>coef</th>     <th>std err</th>      <th>z</th>      <th>P>|z|</th>  <th>[0.025</th>    <th>0.975]</th>  \n",
       "</tr>\n",
       "<tr>\n",
       "  <th>intercept</th> <td>   -1.6066</td> <td>    0.039</td> <td>  -41.144</td> <td> 0.000</td> <td>   -1.683</td> <td>   -1.530</td>\n",
       "</tr>\n",
       "<tr>\n",
       "  <th>EDUCATION</th> <td>    0.1958</td> <td>    0.020</td> <td>    9.957</td> <td> 0.000</td> <td>    0.157</td> <td>    0.234</td>\n",
       "</tr>\n",
       "</table>"
      ],
      "text/plain": [
       "<class 'statsmodels.iolib.summary.Summary'>\n",
       "\"\"\"\n",
       "                               Logit Regression Results                               \n",
       "======================================================================================\n",
       "Dep. Variable:     default.payment.next.month   No. Observations:                29655\n",
       "Model:                                  Logit   Df Residuals:                    29653\n",
       "Method:                                   MLE   Df Model:                            1\n",
       "Date:                        Mon, 08 Feb 2021   Pseudo R-squ.:                0.003147\n",
       "Time:                                18:37:33   Log-Likelihood:                -15684.\n",
       "converged:                               True   LL-Null:                       -15733.\n",
       "Covariance Type:                    nonrobust   LLR p-value:                 2.480e-23\n",
       "==============================================================================\n",
       "                 coef    std err          z      P>|z|      [0.025      0.975]\n",
       "------------------------------------------------------------------------------\n",
       "intercept     -1.6066      0.039    -41.144      0.000      -1.683      -1.530\n",
       "EDUCATION      0.1958      0.020      9.957      0.000       0.157       0.234\n",
       "==============================================================================\n",
       "\"\"\""
      ]
     },
     "execution_count": 2,
     "metadata": {},
     "output_type": "execute_result"
    }
   ],
   "source": [
    "import statsmodels.api as sm\n",
    "\n",
    "df_logit = pd.read_csv('data/UCI_Credit_Card.csv')\n",
    "df_logit['EDUCATION'] = df_logit.EDUCATION.map({1:1, 2:2, 3:3, 4:0, 5:np.nan, 6:np.nan})\n",
    "df_logit['intercept'] = 1\n",
    "df_logit.dropna(subset=['EDUCATION'], inplace=True)\n",
    "\n",
    "# log(odds) ~ b0 + b1*education\n",
    "logit_res = sm.Logit(df_logit['default.payment.next.month'], df_logit[['intercept','EDUCATION']]).fit()\n",
    "logit_res.summary()"
   ]
  },
  {
   "cell_type": "markdown",
   "metadata": {
    "slideshow": {
     "slide_type": "slide"
    },
    "pycharm": {
     "name": "#%% md\n"
    }
   },
   "source": [
    "## Revisão Matriz de confusão\n",
    "![](imgs/confusion.jpg)"
   ]
  },
  {
   "cell_type": "markdown",
   "metadata": {
    "slideshow": {
     "slide_type": "slide"
    },
    "pycharm": {
     "name": "#%% md\n"
    }
   },
   "source": [
    "## Revisão Precision, Recall e F1\n",
    "* **Acurácia**: O quanto o modelo consegue acertar\n",
    "* **recall (sensitivity)**: Do universo dos positivos, quantos o modelo consegue recuperar\n",
    "* **precision**: Quando o modelo falou que era positivo, quantos eram de fato\n",
    "* **F1-measure**: média harmônica entre o precision e o recall"
   ]
  },
  {
   "cell_type": "markdown",
   "metadata": {
    "slideshow": {
     "slide_type": "slide"
    },
    "pycharm": {
     "name": "#%% md\n"
    }
   },
   "source": [
    "## Revisão ROC AUC e PR AUC\n",
    "![](imgs/pr_roc_curves.png)"
   ]
  },
  {
   "cell_type": "markdown",
   "metadata": {
    "slideshow": {
     "slide_type": "slide"
    },
    "pycharm": {
     "name": "#%% md\n"
    }
   },
   "source": [
    "## Importando as bibliotecas"
   ]
  },
  {
   "cell_type": "code",
   "execution_count": 3,
   "metadata": {
    "slideshow": {
     "slide_type": "skip"
    },
    "pycharm": {
     "name": "#%%\n"
    }
   },
   "outputs": [],
   "source": [
    "%matplotlib notebook\n",
    "# Silent warnings\n",
    "import warnings\n",
    "warnings.filterwarnings(\"ignore\")\n",
    "\n",
    "# Core\n",
    "import numpy as np\n",
    "import pandas as pd\n",
    "import statsmodels.formula.api as smf"
   ]
  },
  {
   "cell_type": "code",
   "execution_count": 4,
   "metadata": {
    "pycharm": {
     "name": "#%%\n"
    }
   },
   "outputs": [],
   "source": [
    "# Machine Learning\n",
    "from sklearn.linear_model import LogisticRegression\n",
    "from sklearn.ensemble import RandomForestClassifier\n",
    "from sklearn.model_selection import train_test_split\n",
    "\n",
    "# Pre-processing\n",
    "from sklearn.compose import ColumnTransformer\n",
    "from sklearn.pipeline import Pipeline\n",
    "from sklearn.impute import SimpleImputer\n",
    "from sklearn.preprocessing import StandardScaler, OneHotEncoder\n",
    "\n",
    "# Metrics\n",
    "from sklearn.metrics import accuracy_score, precision_score, recall_score, f1_score\n",
    "from sklearn.metrics import  precision_recall_curve, roc_curve, roc_auc_score, average_precision_score\n",
    "from sklearn.metrics import confusion_matrix\n",
    "from sklearn.metrics import plot_confusion_matrix, plot_roc_curve, plot_precision_recall_curve\n",
    "\n",
    "# Visualisation\n",
    "import matplotlib.pyplot as plt\n",
    "import seaborn as sns\n",
    "\n",
    "# Balancing\n",
    "from imblearn.over_sampling import SMOTE\n",
    "from imblearn.under_sampling import RandomUnderSampler\n",
    "from imblearn.over_sampling import RandomOverSampler"
   ]
  },
  {
   "cell_type": "code",
   "execution_count": 5,
   "metadata": {
    "slideshow": {
     "slide_type": "skip"
    },
    "pycharm": {
     "name": "#%%\n"
    }
   },
   "outputs": [],
   "source": [
    "%matplotlib inline\n",
    "sns.set_style('darkgrid')\n",
    "plt.style.use('ggplot')"
   ]
  },
  {
   "cell_type": "markdown",
   "metadata": {
    "slideshow": {
     "slide_type": "slide"
    },
    "pycharm": {
     "name": "#%% md\n"
    }
   },
   "source": [
    "## Carregando o dataset"
   ]
  },
  {
   "cell_type": "code",
   "execution_count": 6,
   "metadata": {
    "scrolled": true,
    "pycharm": {
     "name": "#%%\n"
    }
   },
   "outputs": [
    {
     "data": {
      "text/html": [
       "<div>\n",
       "<style scoped>\n",
       "    .dataframe tbody tr th:only-of-type {\n",
       "        vertical-align: middle;\n",
       "    }\n",
       "\n",
       "    .dataframe tbody tr th {\n",
       "        vertical-align: top;\n",
       "    }\n",
       "\n",
       "    .dataframe thead th {\n",
       "        text-align: right;\n",
       "    }\n",
       "</style>\n",
       "<table border=\"1\" class=\"dataframe\">\n",
       "  <thead>\n",
       "    <tr style=\"text-align: right;\">\n",
       "      <th></th>\n",
       "      <th>LIMIT_BAL</th>\n",
       "      <th>SEX</th>\n",
       "      <th>EDUCATION</th>\n",
       "      <th>MARRIAGE</th>\n",
       "      <th>AGE</th>\n",
       "      <th>PAY_1</th>\n",
       "      <th>PAY_2</th>\n",
       "      <th>PAY_3</th>\n",
       "      <th>PAY_4</th>\n",
       "      <th>PAY_5</th>\n",
       "      <th>...</th>\n",
       "      <th>BILL_AMT4</th>\n",
       "      <th>BILL_AMT5</th>\n",
       "      <th>BILL_AMT6</th>\n",
       "      <th>PAY_AMT1</th>\n",
       "      <th>PAY_AMT2</th>\n",
       "      <th>PAY_AMT3</th>\n",
       "      <th>PAY_AMT4</th>\n",
       "      <th>PAY_AMT5</th>\n",
       "      <th>PAY_AMT6</th>\n",
       "      <th>default</th>\n",
       "    </tr>\n",
       "  </thead>\n",
       "  <tbody>\n",
       "    <tr>\n",
       "      <th>0</th>\n",
       "      <td>20000.0</td>\n",
       "      <td>2</td>\n",
       "      <td>2</td>\n",
       "      <td>1</td>\n",
       "      <td>24</td>\n",
       "      <td>2</td>\n",
       "      <td>2</td>\n",
       "      <td>-1</td>\n",
       "      <td>-1</td>\n",
       "      <td>-2</td>\n",
       "      <td>...</td>\n",
       "      <td>0.0</td>\n",
       "      <td>0.0</td>\n",
       "      <td>0.0</td>\n",
       "      <td>0.0</td>\n",
       "      <td>689.0</td>\n",
       "      <td>0.0</td>\n",
       "      <td>0.0</td>\n",
       "      <td>0.0</td>\n",
       "      <td>0.0</td>\n",
       "      <td>1</td>\n",
       "    </tr>\n",
       "    <tr>\n",
       "      <th>1</th>\n",
       "      <td>120000.0</td>\n",
       "      <td>2</td>\n",
       "      <td>2</td>\n",
       "      <td>2</td>\n",
       "      <td>26</td>\n",
       "      <td>-1</td>\n",
       "      <td>2</td>\n",
       "      <td>0</td>\n",
       "      <td>0</td>\n",
       "      <td>0</td>\n",
       "      <td>...</td>\n",
       "      <td>3272.0</td>\n",
       "      <td>3455.0</td>\n",
       "      <td>3261.0</td>\n",
       "      <td>0.0</td>\n",
       "      <td>1000.0</td>\n",
       "      <td>1000.0</td>\n",
       "      <td>1000.0</td>\n",
       "      <td>0.0</td>\n",
       "      <td>2000.0</td>\n",
       "      <td>1</td>\n",
       "    </tr>\n",
       "    <tr>\n",
       "      <th>2</th>\n",
       "      <td>90000.0</td>\n",
       "      <td>2</td>\n",
       "      <td>2</td>\n",
       "      <td>2</td>\n",
       "      <td>34</td>\n",
       "      <td>0</td>\n",
       "      <td>0</td>\n",
       "      <td>0</td>\n",
       "      <td>0</td>\n",
       "      <td>0</td>\n",
       "      <td>...</td>\n",
       "      <td>14331.0</td>\n",
       "      <td>14948.0</td>\n",
       "      <td>15549.0</td>\n",
       "      <td>1518.0</td>\n",
       "      <td>1500.0</td>\n",
       "      <td>1000.0</td>\n",
       "      <td>1000.0</td>\n",
       "      <td>1000.0</td>\n",
       "      <td>5000.0</td>\n",
       "      <td>0</td>\n",
       "    </tr>\n",
       "    <tr>\n",
       "      <th>3</th>\n",
       "      <td>50000.0</td>\n",
       "      <td>2</td>\n",
       "      <td>2</td>\n",
       "      <td>1</td>\n",
       "      <td>37</td>\n",
       "      <td>0</td>\n",
       "      <td>0</td>\n",
       "      <td>0</td>\n",
       "      <td>0</td>\n",
       "      <td>0</td>\n",
       "      <td>...</td>\n",
       "      <td>28314.0</td>\n",
       "      <td>28959.0</td>\n",
       "      <td>29547.0</td>\n",
       "      <td>2000.0</td>\n",
       "      <td>2019.0</td>\n",
       "      <td>1200.0</td>\n",
       "      <td>1100.0</td>\n",
       "      <td>1069.0</td>\n",
       "      <td>1000.0</td>\n",
       "      <td>0</td>\n",
       "    </tr>\n",
       "    <tr>\n",
       "      <th>4</th>\n",
       "      <td>50000.0</td>\n",
       "      <td>1</td>\n",
       "      <td>2</td>\n",
       "      <td>1</td>\n",
       "      <td>57</td>\n",
       "      <td>-1</td>\n",
       "      <td>0</td>\n",
       "      <td>-1</td>\n",
       "      <td>0</td>\n",
       "      <td>0</td>\n",
       "      <td>...</td>\n",
       "      <td>20940.0</td>\n",
       "      <td>19146.0</td>\n",
       "      <td>19131.0</td>\n",
       "      <td>2000.0</td>\n",
       "      <td>36681.0</td>\n",
       "      <td>10000.0</td>\n",
       "      <td>9000.0</td>\n",
       "      <td>689.0</td>\n",
       "      <td>679.0</td>\n",
       "      <td>0</td>\n",
       "    </tr>\n",
       "  </tbody>\n",
       "</table>\n",
       "<p>5 rows × 24 columns</p>\n",
       "</div>"
      ],
      "text/plain": [
       "   LIMIT_BAL  SEX  EDUCATION  MARRIAGE  AGE  PAY_1  PAY_2  PAY_3  PAY_4  \\\n",
       "0    20000.0    2          2         1   24      2      2     -1     -1   \n",
       "1   120000.0    2          2         2   26     -1      2      0      0   \n",
       "2    90000.0    2          2         2   34      0      0      0      0   \n",
       "3    50000.0    2          2         1   37      0      0      0      0   \n",
       "4    50000.0    1          2         1   57     -1      0     -1      0   \n",
       "\n",
       "   PAY_5  ...  BILL_AMT4  BILL_AMT5  BILL_AMT6  PAY_AMT1  PAY_AMT2  PAY_AMT3  \\\n",
       "0     -2  ...        0.0        0.0        0.0       0.0     689.0       0.0   \n",
       "1      0  ...     3272.0     3455.0     3261.0       0.0    1000.0    1000.0   \n",
       "2      0  ...    14331.0    14948.0    15549.0    1518.0    1500.0    1000.0   \n",
       "3      0  ...    28314.0    28959.0    29547.0    2000.0    2019.0    1200.0   \n",
       "4      0  ...    20940.0    19146.0    19131.0    2000.0   36681.0   10000.0   \n",
       "\n",
       "   PAY_AMT4  PAY_AMT5  PAY_AMT6  default  \n",
       "0       0.0       0.0       0.0        1  \n",
       "1    1000.0       0.0    2000.0        1  \n",
       "2    1000.0    1000.0    5000.0        0  \n",
       "3    1100.0    1069.0    1000.0        0  \n",
       "4    9000.0     689.0     679.0        0  \n",
       "\n",
       "[5 rows x 24 columns]"
      ]
     },
     "execution_count": 6,
     "metadata": {},
     "output_type": "execute_result"
    }
   ],
   "source": [
    "df = pd.read_csv('data/UCI_Credit_Card.csv')\n",
    "df.drop('ID', axis=1, inplace=True)\n",
    "df = df.rename(columns={'default.payment.next.month': 'default', 'PAY_0': 'PAY_1'})\n",
    "df.head()"
   ]
  },
  {
   "cell_type": "markdown",
   "metadata": {
    "slideshow": {
     "slide_type": "slide"
    },
    "pycharm": {
     "name": "#%% md\n"
    }
   },
   "source": [
    "## Verificando o tipo das variáveis"
   ]
  },
  {
   "cell_type": "code",
   "execution_count": 31,
   "metadata": {
    "scrolled": false,
    "pycharm": {
     "name": "#%%\n"
    }
   },
   "outputs": [
    {
     "name": "stdout",
     "output_type": "stream",
     "text": [
      "<class 'pandas.core.frame.DataFrame'>\n",
      "RangeIndex: 30000 entries, 0 to 29999\n",
      "Data columns (total 24 columns):\n",
      " #   Column     Non-Null Count  Dtype  \n",
      "---  ------     --------------  -----  \n",
      " 0   LIMIT_BAL  30000 non-null  float64\n",
      " 1   SEX        30000 non-null  int64  \n",
      " 2   EDUCATION  30000 non-null  int64  \n",
      " 3   MARRIAGE   30000 non-null  int64  \n",
      " 4   AGE        30000 non-null  int64  \n",
      " 5   PAY_1      30000 non-null  int64  \n",
      " 6   PAY_2      30000 non-null  int64  \n",
      " 7   PAY_3      30000 non-null  int64  \n",
      " 8   PAY_4      30000 non-null  int64  \n",
      " 9   PAY_5      30000 non-null  int64  \n",
      " 10  PAY_6      30000 non-null  int64  \n",
      " 11  BILL_AMT1  30000 non-null  float64\n",
      " 12  BILL_AMT2  30000 non-null  float64\n",
      " 13  BILL_AMT3  30000 non-null  float64\n",
      " 14  BILL_AMT4  30000 non-null  float64\n",
      " 15  BILL_AMT5  30000 non-null  float64\n",
      " 16  BILL_AMT6  30000 non-null  float64\n",
      " 17  PAY_AMT1   30000 non-null  float64\n",
      " 18  PAY_AMT2   30000 non-null  float64\n",
      " 19  PAY_AMT3   30000 non-null  float64\n",
      " 20  PAY_AMT4   30000 non-null  float64\n",
      " 21  PAY_AMT5   30000 non-null  float64\n",
      " 22  PAY_AMT6   30000 non-null  float64\n",
      " 23  default    30000 non-null  int64  \n",
      "dtypes: float64(13), int64(11)\n",
      "memory usage: 5.5 MB\n"
     ]
    }
   ],
   "source": [
    "df.info()"
   ]
  },
  {
   "cell_type": "markdown",
   "metadata": {
    "slideshow": {
     "slide_type": "slide"
    },
    "pycharm": {
     "name": "#%% md\n"
    }
   },
   "source": [
    "## Distribuição da variável de interesse"
   ]
  },
  {
   "cell_type": "code",
   "execution_count": 8,
   "metadata": {
    "scrolled": true,
    "pycharm": {
     "name": "#%%\n"
    }
   },
   "outputs": [
    {
     "name": "stdout",
     "output_type": "stream",
     "text": [
      "Original\n",
      "0    23364\n",
      "1     6636\n",
      "Name: default, dtype: int64\n",
      "More unbalanced\n",
      "0    23364\n",
      "1     1991\n",
      "Name: default, dtype: int64\n"
     ]
    }
   ],
   "source": [
    "df_unbalanced = df.drop(df[df.default == 1].sample(frac=.7).index)\n",
    "print('Original')\n",
    "print(df.default.value_counts())\n",
    "print('More unbalanced')\n",
    "print(df_unbalanced.default.value_counts())"
   ]
  },
  {
   "cell_type": "code",
   "execution_count": 9,
   "metadata": {
    "scrolled": false,
    "pycharm": {
     "name": "#%%\n"
    }
   },
   "outputs": [
    {
     "name": "stdout",
     "output_type": "stream",
     "text": [
      "Proporção de inadimplentes: 8.0 %\n"
     ]
    }
   ],
   "source": [
    "positive_proportion = df_unbalanced.default.value_counts()[1]/(len(df_unbalanced))\n",
    "print('Proporção de inadimplentes:', round(positive_proportion,2)*100, '%')"
   ]
  },
  {
   "cell_type": "markdown",
   "metadata": {
    "slideshow": {
     "slide_type": "slide"
    },
    "pycharm": {
     "name": "#%% md\n"
    }
   },
   "source": [
    "## Organizando as features"
   ]
  },
  {
   "cell_type": "code",
   "execution_count": 10,
   "metadata": {
    "pycharm": {
     "name": "#%%\n"
    }
   },
   "outputs": [],
   "source": [
    "target = 'default'\n",
    "\n",
    "cat_features = [\n",
    "    'SEX',\n",
    "    'EDUCATION',\n",
    "    'MARRIAGE'\n",
    "]\n",
    "\n",
    "num_features = [\n",
    "    'LIMIT_BAL','AGE',\n",
    "    'PAY_1','PAY_2','PAY_3',\n",
    "    'PAY_4','PAY_5','PAY_6',\n",
    "    'BILL_AMT1','BILL_AMT2','BILL_AMT3',\n",
    "    'BILL_AMT4','BILL_AMT5','BILL_AMT6',\n",
    "    'PAY_AMT1','PAY_AMT2','PAY_AMT3',\n",
    "    'PAY_AMT4','PAY_AMT5','PAY_AMT6'\n",
    "]"
   ]
  },
  {
   "cell_type": "markdown",
   "metadata": {
    "slideshow": {
     "slide_type": "slide"
    },
    "pycharm": {
     "name": "#%% md\n"
    }
   },
   "source": [
    "## Pre-processamento\n"
   ]
  },
  {
   "cell_type": "code",
   "execution_count": 11,
   "metadata": {
    "scrolled": true,
    "pycharm": {
     "name": "#%%\n"
    }
   },
   "outputs": [
    {
     "data": {
      "text/html": [
       "<div>\n",
       "<style scoped>\n",
       "    .dataframe tbody tr th:only-of-type {\n",
       "        vertical-align: middle;\n",
       "    }\n",
       "\n",
       "    .dataframe tbody tr th {\n",
       "        vertical-align: top;\n",
       "    }\n",
       "\n",
       "    .dataframe thead th {\n",
       "        text-align: right;\n",
       "    }\n",
       "</style>\n",
       "<table border=\"1\" class=\"dataframe\">\n",
       "  <thead>\n",
       "    <tr style=\"text-align: right;\">\n",
       "      <th></th>\n",
       "      <th>default</th>\n",
       "      <th>SEX_2</th>\n",
       "      <th>EDUCATION_1</th>\n",
       "      <th>EDUCATION_2</th>\n",
       "      <th>EDUCATION_3</th>\n",
       "      <th>EDUCATION_4</th>\n",
       "      <th>EDUCATION_5</th>\n",
       "      <th>EDUCATION_6</th>\n",
       "      <th>MARRIAGE_1</th>\n",
       "      <th>MARRIAGE_2</th>\n",
       "      <th>MARRIAGE_3</th>\n",
       "    </tr>\n",
       "  </thead>\n",
       "  <tbody>\n",
       "    <tr>\n",
       "      <th>1</th>\n",
       "      <td>1</td>\n",
       "      <td>1</td>\n",
       "      <td>0</td>\n",
       "      <td>1</td>\n",
       "      <td>0</td>\n",
       "      <td>0</td>\n",
       "      <td>0</td>\n",
       "      <td>0</td>\n",
       "      <td>0</td>\n",
       "      <td>1</td>\n",
       "      <td>0</td>\n",
       "    </tr>\n",
       "    <tr>\n",
       "      <th>2</th>\n",
       "      <td>0</td>\n",
       "      <td>1</td>\n",
       "      <td>0</td>\n",
       "      <td>1</td>\n",
       "      <td>0</td>\n",
       "      <td>0</td>\n",
       "      <td>0</td>\n",
       "      <td>0</td>\n",
       "      <td>0</td>\n",
       "      <td>1</td>\n",
       "      <td>0</td>\n",
       "    </tr>\n",
       "    <tr>\n",
       "      <th>3</th>\n",
       "      <td>0</td>\n",
       "      <td>1</td>\n",
       "      <td>0</td>\n",
       "      <td>1</td>\n",
       "      <td>0</td>\n",
       "      <td>0</td>\n",
       "      <td>0</td>\n",
       "      <td>0</td>\n",
       "      <td>1</td>\n",
       "      <td>0</td>\n",
       "      <td>0</td>\n",
       "    </tr>\n",
       "    <tr>\n",
       "      <th>4</th>\n",
       "      <td>0</td>\n",
       "      <td>0</td>\n",
       "      <td>0</td>\n",
       "      <td>1</td>\n",
       "      <td>0</td>\n",
       "      <td>0</td>\n",
       "      <td>0</td>\n",
       "      <td>0</td>\n",
       "      <td>1</td>\n",
       "      <td>0</td>\n",
       "      <td>0</td>\n",
       "    </tr>\n",
       "    <tr>\n",
       "      <th>5</th>\n",
       "      <td>0</td>\n",
       "      <td>0</td>\n",
       "      <td>1</td>\n",
       "      <td>0</td>\n",
       "      <td>0</td>\n",
       "      <td>0</td>\n",
       "      <td>0</td>\n",
       "      <td>0</td>\n",
       "      <td>0</td>\n",
       "      <td>1</td>\n",
       "      <td>0</td>\n",
       "    </tr>\n",
       "  </tbody>\n",
       "</table>\n",
       "</div>"
      ],
      "text/plain": [
       "   default  SEX_2  EDUCATION_1  EDUCATION_2  EDUCATION_3  EDUCATION_4  \\\n",
       "1        1      1            0            1            0            0   \n",
       "2        0      1            0            1            0            0   \n",
       "3        0      1            0            1            0            0   \n",
       "4        0      0            0            1            0            0   \n",
       "5        0      0            1            0            0            0   \n",
       "\n",
       "   EDUCATION_5  EDUCATION_6  MARRIAGE_1  MARRIAGE_2  MARRIAGE_3  \n",
       "1            0            0           0           1           0  \n",
       "2            0            0           0           1           0  \n",
       "3            0            0           1           0           0  \n",
       "4            0            0           1           0           0  \n",
       "5            0            0           0           1           0  "
      ]
     },
     "execution_count": 11,
     "metadata": {},
     "output_type": "execute_result"
    }
   ],
   "source": [
    "df_proc = pd.get_dummies(df_unbalanced, columns=cat_features, drop_first=True)\n",
    "df_proc.drop(num_features, axis=1).head()"
   ]
  },
  {
   "cell_type": "markdown",
   "metadata": {
    "slideshow": {
     "slide_type": "-"
    },
    "pycharm": {
     "name": "#%% md\n"
    }
   },
   "source": [
    "* **SEX**: Gender (0=NA, 1=male, 2=female)\n",
    "* **EDUCATION**: (0=NA, 1=graduate school, 2=university, 3=high school, 4=others, 5=unknown, 6=unknown)\n",
    "* **MARRIAGE**: Marital status (0=NA, 1=married, 2=single, 3=others)"
   ]
  },
  {
   "cell_type": "code",
   "execution_count": 12,
   "metadata": {
    "slideshow": {
     "slide_type": "skip"
    },
    "pycharm": {
     "name": "#%%\n"
    }
   },
   "outputs": [
    {
     "data": {
      "text/html": [
       "<div>\n",
       "<style scoped>\n",
       "    .dataframe tbody tr th:only-of-type {\n",
       "        vertical-align: middle;\n",
       "    }\n",
       "\n",
       "    .dataframe tbody tr th {\n",
       "        vertical-align: top;\n",
       "    }\n",
       "\n",
       "    .dataframe thead th {\n",
       "        text-align: right;\n",
       "    }\n",
       "</style>\n",
       "<table border=\"1\" class=\"dataframe\">\n",
       "  <thead>\n",
       "    <tr style=\"text-align: right;\">\n",
       "      <th></th>\n",
       "      <th>LIMIT_BAL</th>\n",
       "      <th>AGE</th>\n",
       "      <th>PAY_1</th>\n",
       "      <th>PAY_2</th>\n",
       "      <th>PAY_3</th>\n",
       "      <th>PAY_4</th>\n",
       "      <th>PAY_5</th>\n",
       "      <th>PAY_6</th>\n",
       "      <th>BILL_AMT1</th>\n",
       "      <th>BILL_AMT2</th>\n",
       "      <th>BILL_AMT3</th>\n",
       "      <th>BILL_AMT4</th>\n",
       "      <th>BILL_AMT5</th>\n",
       "      <th>BILL_AMT6</th>\n",
       "      <th>PAY_AMT1</th>\n",
       "      <th>PAY_AMT2</th>\n",
       "      <th>PAY_AMT3</th>\n",
       "      <th>PAY_AMT4</th>\n",
       "      <th>PAY_AMT5</th>\n",
       "      <th>PAY_AMT6</th>\n",
       "    </tr>\n",
       "  </thead>\n",
       "  <tbody>\n",
       "    <tr>\n",
       "      <th>1</th>\n",
       "      <td>-0.415232</td>\n",
       "      <td>-1.033370</td>\n",
       "      <td>-0.838876</td>\n",
       "      <td>2.044251</td>\n",
       "      <td>0.239311</td>\n",
       "      <td>0.287842</td>\n",
       "      <td>0.333345</td>\n",
       "      <td>2.234052</td>\n",
       "      <td>-0.666852</td>\n",
       "      <td>-0.673185</td>\n",
       "      <td>-0.643444</td>\n",
       "      <td>-0.625007</td>\n",
       "      <td>-0.610157</td>\n",
       "      <td>-0.600800</td>\n",
       "      <td>-0.347165</td>\n",
       "      <td>-0.219560</td>\n",
       "      <td>-0.246093</td>\n",
       "      <td>-0.253620</td>\n",
       "      <td>-0.324706</td>\n",
       "      <td>-0.192446</td>\n",
       "    </tr>\n",
       "    <tr>\n",
       "      <th>2</th>\n",
       "      <td>-0.644151</td>\n",
       "      <td>-0.155883</td>\n",
       "      <td>0.141340</td>\n",
       "      <td>0.221652</td>\n",
       "      <td>0.239311</td>\n",
       "      <td>0.287842</td>\n",
       "      <td>0.333345</td>\n",
       "      <td>0.344520</td>\n",
       "      <td>-0.306138</td>\n",
       "      <td>-0.500150</td>\n",
       "      <td>-0.486883</td>\n",
       "      <td>-0.453092</td>\n",
       "      <td>-0.420619</td>\n",
       "      <td>-0.393976</td>\n",
       "      <td>-0.260428</td>\n",
       "      <td>-0.199209</td>\n",
       "      <td>-0.246093</td>\n",
       "      <td>-0.253620</td>\n",
       "      <td>-0.260789</td>\n",
       "      <td>-0.030851</td>\n",
       "    </tr>\n",
       "    <tr>\n",
       "      <th>3</th>\n",
       "      <td>-0.949376</td>\n",
       "      <td>0.173174</td>\n",
       "      <td>0.141340</td>\n",
       "      <td>0.221652</td>\n",
       "      <td>0.239311</td>\n",
       "      <td>0.287842</td>\n",
       "      <td>0.333345</td>\n",
       "      <td>0.344520</td>\n",
       "      <td>-0.065033</td>\n",
       "      <td>-0.019024</td>\n",
       "      <td>0.027434</td>\n",
       "      <td>-0.235722</td>\n",
       "      <td>-0.189554</td>\n",
       "      <td>-0.158370</td>\n",
       "      <td>-0.232887</td>\n",
       "      <td>-0.178084</td>\n",
       "      <td>-0.235313</td>\n",
       "      <td>-0.247502</td>\n",
       "      <td>-0.256378</td>\n",
       "      <td>-0.246311</td>\n",
       "    </tr>\n",
       "    <tr>\n",
       "      <th>4</th>\n",
       "      <td>-0.949376</td>\n",
       "      <td>2.366891</td>\n",
       "      <td>-0.838876</td>\n",
       "      <td>0.221652</td>\n",
       "      <td>-0.667944</td>\n",
       "      <td>0.287842</td>\n",
       "      <td>0.333345</td>\n",
       "      <td>0.344520</td>\n",
       "      <td>-0.586239</td>\n",
       "      <td>-0.617696</td>\n",
       "      <td>-0.166248</td>\n",
       "      <td>-0.350353</td>\n",
       "      <td>-0.351387</td>\n",
       "      <td>-0.333686</td>\n",
       "      <td>-0.232887</td>\n",
       "      <td>1.232774</td>\n",
       "      <td>0.239007</td>\n",
       "      <td>0.235821</td>\n",
       "      <td>-0.280667</td>\n",
       "      <td>-0.263602</td>\n",
       "    </tr>\n",
       "    <tr>\n",
       "      <th>5</th>\n",
       "      <td>-0.949376</td>\n",
       "      <td>0.173174</td>\n",
       "      <td>0.141340</td>\n",
       "      <td>0.221652</td>\n",
       "      <td>0.239311</td>\n",
       "      <td>0.287842</td>\n",
       "      <td>0.333345</td>\n",
       "      <td>0.344520</td>\n",
       "      <td>0.171441</td>\n",
       "      <td>0.105259</td>\n",
       "      <td>0.147147</td>\n",
       "      <td>-0.374386</td>\n",
       "      <td>-0.343586</td>\n",
       "      <td>-0.318656</td>\n",
       "      <td>-0.204318</td>\n",
       "      <td>-0.186387</td>\n",
       "      <td>-0.264581</td>\n",
       "      <td>-0.253620</td>\n",
       "      <td>-0.260789</td>\n",
       "      <td>-0.257084</td>\n",
       "    </tr>\n",
       "  </tbody>\n",
       "</table>\n",
       "</div>"
      ],
      "text/plain": [
       "   LIMIT_BAL       AGE     PAY_1     PAY_2     PAY_3     PAY_4     PAY_5  \\\n",
       "1  -0.415232 -1.033370 -0.838876  2.044251  0.239311  0.287842  0.333345   \n",
       "2  -0.644151 -0.155883  0.141340  0.221652  0.239311  0.287842  0.333345   \n",
       "3  -0.949376  0.173174  0.141340  0.221652  0.239311  0.287842  0.333345   \n",
       "4  -0.949376  2.366891 -0.838876  0.221652 -0.667944  0.287842  0.333345   \n",
       "5  -0.949376  0.173174  0.141340  0.221652  0.239311  0.287842  0.333345   \n",
       "\n",
       "      PAY_6  BILL_AMT1  BILL_AMT2  BILL_AMT3  BILL_AMT4  BILL_AMT5  BILL_AMT6  \\\n",
       "1  2.234052  -0.666852  -0.673185  -0.643444  -0.625007  -0.610157  -0.600800   \n",
       "2  0.344520  -0.306138  -0.500150  -0.486883  -0.453092  -0.420619  -0.393976   \n",
       "3  0.344520  -0.065033  -0.019024   0.027434  -0.235722  -0.189554  -0.158370   \n",
       "4  0.344520  -0.586239  -0.617696  -0.166248  -0.350353  -0.351387  -0.333686   \n",
       "5  0.344520   0.171441   0.105259   0.147147  -0.374386  -0.343586  -0.318656   \n",
       "\n",
       "   PAY_AMT1  PAY_AMT2  PAY_AMT3  PAY_AMT4  PAY_AMT5  PAY_AMT6  \n",
       "1 -0.347165 -0.219560 -0.246093 -0.253620 -0.324706 -0.192446  \n",
       "2 -0.260428 -0.199209 -0.246093 -0.253620 -0.260789 -0.030851  \n",
       "3 -0.232887 -0.178084 -0.235313 -0.247502 -0.256378 -0.246311  \n",
       "4 -0.232887  1.232774  0.239007  0.235821 -0.280667 -0.263602  \n",
       "5 -0.204318 -0.186387 -0.264581 -0.253620 -0.260789 -0.257084  "
      ]
     },
     "execution_count": 12,
     "metadata": {},
     "output_type": "execute_result"
    }
   ],
   "source": [
    "# Dever de casa testar sem StandardScaler\n",
    "scaler = StandardScaler()\n",
    "df_proc[num_features] = scaler.fit_transform(df_proc[num_features])\n",
    "df_proc[num_features].head()"
   ]
  },
  {
   "cell_type": "markdown",
   "metadata": {
    "slideshow": {
     "slide_type": "slide"
    },
    "pycharm": {
     "name": "#%% md\n"
    }
   },
   "source": [
    "## Splitando os dados"
   ]
  },
  {
   "cell_type": "code",
   "execution_count": 13,
   "metadata": {
    "pycharm": {
     "name": "#%%\n"
    }
   },
   "outputs": [],
   "source": [
    "# Features\n",
    "X = df_proc.drop('default', axis=1)\n",
    "# Target variable\n",
    "y = df_proc.default\n",
    "# Train test split\n",
    "X_train, X_test, y_train, y_test = train_test_split(X, y, test_size=0.33, random_state=42, stratify=y)"
   ]
  },
  {
   "cell_type": "markdown",
   "metadata": {
    "slideshow": {
     "slide_type": "slide"
    },
    "pycharm": {
     "name": "#%% md\n"
    }
   },
   "source": [
    "## Hiperparâmetros"
   ]
  },
  {
   "cell_type": "markdown",
   "metadata": {
    "pycharm": {
     "name": "#%% md\n"
    }
   },
   "source": [
    "![](imgs/model_diagram.png)"
   ]
  },
  {
   "cell_type": "code",
   "execution_count": 14,
   "metadata": {
    "pycharm": {
     "name": "#%%\n"
    }
   },
   "outputs": [],
   "source": [
    "model_example =  LogisticRegression(class_weight={0:1,1:10}, max_iter=2000)"
   ]
  },
  {
   "cell_type": "markdown",
   "metadata": {
    "slideshow": {
     "slide_type": "slide"
    },
    "pycharm": {
     "name": "#%% md\n"
    }
   },
   "source": [
    "## Random forest"
   ]
  },
  {
   "cell_type": "markdown",
   "metadata": {
    "pycharm": {
     "name": "#%% md\n"
    }
   },
   "source": [
    "![](imgs/random-forest-algorithm2.png)"
   ]
  },
  {
   "cell_type": "markdown",
   "metadata": {
    "pycharm": {
     "name": "#%% md\n"
    }
   },
   "source": [
    "Link sobre random forest stat quest: https://www.youtube.com/watch?v=J4Wdy0Wc_xQ"
   ]
  },
  {
   "cell_type": "markdown",
   "metadata": {
    "slideshow": {
     "slide_type": "slide"
    },
    "pycharm": {
     "name": "#%% md\n"
    }
   },
   "source": [
    "## Comparando o Random Forest com diferentes class_weights"
   ]
  },
  {
   "cell_type": "code",
   "execution_count": 15,
   "metadata": {
    "scrolled": false,
    "pycharm": {
     "name": "#%%\n"
    }
   },
   "outputs": [],
   "source": [
    "def check_mutiple_class_weights():\n",
    "    fig = plt.figure(figsize=(15,8))\n",
    "    ax1 = fig.add_subplot(1,2,1)\n",
    "    ax1.set_xlabel('Recall')\n",
    "    ax1.set_ylabel('Precision')\n",
    "    ax1.set_title('PR Curve')\n",
    "\n",
    "    ax2 = fig.add_subplot(1,2,2)\n",
    "    ax2.set_xlabel('False Positive Rate')\n",
    "    ax2.set_ylabel('True Positive Rate')\n",
    "    ax2.set_title('ROC Curve')\n",
    "\n",
    "    for w,k in zip([1,2,5,10],'bgrcmykw'):\n",
    "        #lr_model = LogisticRegression(class_weight={0:1,1:w}, max_iter=2000)\n",
    "        lr_model = RandomForestClassifier(class_weight={0:1,1:w})\n",
    "        lr_model.fit(X_train,y_train)\n",
    "        pred_prob = lr_model.predict_proba(X_test)[:,1]\n",
    "\n",
    "        p,r,_ = precision_recall_curve(y_test,pred_prob)\n",
    "        tpr,fpr,_ = roc_curve(y_test,pred_prob)\n",
    "\n",
    "        ax1.plot(r,p,c=k,label=w)\n",
    "        ax2.plot(tpr,fpr,c=k,label=w)\n",
    "    ax1.legend(loc='lower right')    \n",
    "    ax2.legend(loc='lower right')\n",
    "\n",
    "    plt.show()"
   ]
  },
  {
   "cell_type": "markdown",
   "metadata": {
    "slideshow": {
     "slide_type": "slide"
    },
    "pycharm": {
     "name": "#%% md\n"
    }
   },
   "source": [
    "## Comparando Logit com diferentes class_weight"
   ]
  },
  {
   "cell_type": "code",
   "execution_count": 17,
   "metadata": {
    "scrolled": false,
    "pycharm": {
     "name": "#%%\n"
    }
   },
   "outputs": [
    {
     "data": {
      "image/png": "[encoded data removed]",
      "text/plain": [
       "<Figure size 1080x576 with 2 Axes>"
      ]
     },
     "metadata": {},
     "output_type": "display_data"
    }
   ],
   "source": [
    "check_mutiple_class_weights()"
   ]
  },
  {
   "cell_type": "markdown",
   "metadata": {
    "slideshow": {
     "slide_type": "slide"
    },
    "pycharm": {
     "name": "#%% md\n"
    }
   },
   "source": [
    "## Estratégias de balanceamento"
   ]
  },
  {
   "cell_type": "markdown",
   "metadata": {
    "pycharm": {
     "name": "#%% md\n"
    }
   },
   "source": [
    "![](imgs/balancing.png)"
   ]
  },
  {
   "cell_type": "markdown",
   "metadata": {
    "slideshow": {
     "slide_type": "slide"
    },
    "pycharm": {
     "name": "#%% md\n"
    }
   },
   "source": [
    "## Criando datasets de treino balanceados"
   ]
  },
  {
   "cell_type": "code",
   "execution_count": 18,
   "metadata": {
    "pycharm": {
     "name": "#%%\n"
    }
   },
   "outputs": [
    {
     "name": "stdout",
     "output_type": "stream",
     "text": [
      "Original dataset:  Counter({0: 15653, 1: 1334})\n",
      "Undersampled dataset:  Counter({0: 1334, 1: 1334})\n",
      "Overampled dataset:  Counter({0: 15653, 1: 15653})\n"
     ]
    }
   ],
   "source": [
    "from collections import Counter \n",
    "\n",
    "randUnderSampler = RandomUnderSampler(random_state=42)\n",
    "X_rus, y_rus = randUnderSampler.fit_resample(X_train, y_train)\n",
    "\n",
    "randOverSampler = RandomOverSampler(random_state=42)\n",
    "X_ros, y_ros = randOverSampler.fit_resample(X_train, y_train)\n",
    "\n",
    "print('Original dataset: ', Counter(y_train))\n",
    "print('Undersampled dataset: ', Counter(y_rus))\n",
    "print('Overampled dataset: ', Counter(y_ros))"
   ]
  },
  {
   "cell_type": "markdown",
   "metadata": {
    "slideshow": {
     "slide_type": "slide"
    },
    "pycharm": {
     "name": "#%% md\n"
    }
   },
   "source": [
    "## Criando modelos com diferentes técnicas"
   ]
  },
  {
   "cell_type": "code",
   "execution_count": 19,
   "metadata": {
    "pycharm": {
     "name": "#%%\n"
    }
   },
   "outputs": [
    {
     "data": {
      "text/plain": [
       "RandomForestClassifier(class_weight={0: 1, 1: 2})"
      ]
     },
     "execution_count": 19,
     "metadata": {},
     "output_type": "execute_result"
    }
   ],
   "source": [
    "# Fit a model without balacing technics\n",
    "# model_baseline = LogisticRegression(max_iter=2000, random_state=42)\n",
    "model_baseline = RandomForestClassifier()\n",
    "model_baseline.fit(X_train, y_train)\n",
    "\n",
    "# Fit a model with class weight\n",
    "# model_weighted = LogisticRegression(max_iter=2000, random_state=42, class_weight={0:1,1:2})\n",
    "model_weighted = RandomForestClassifier(class_weight={0:1,1:2})\n",
    "model_weighted.fit(X_train, y_train)\n",
    "\n",
    "# Fit model without random under sampling\n",
    "# model_rus = LogisticRegression(max_iter=2000, random_state=42)\n",
    "model_rus = RandomForestClassifier(class_weight={0:1,1:2})\n",
    "model_rus.fit(X_rus, y_rus)\n",
    "\n",
    "# Fit model without random over sampling\n",
    "# model_ros = LogisticRegression(max_iter=2000, random_state=42)\n",
    "model_ros = RandomForestClassifier(class_weight={0:1,1:2})\n",
    "model_ros.fit(X_ros, y_ros)"
   ]
  },
  {
   "cell_type": "markdown",
   "metadata": {
    "slideshow": {
     "slide_type": "slide"
    },
    "pycharm": {
     "name": "#%% md\n"
    }
   },
   "source": [
    "# Comparando a matriz de confusão (Random Undersampling)"
   ]
  },
  {
   "cell_type": "code",
   "execution_count": 20,
   "metadata": {
    "scrolled": true,
    "pycharm": {
     "name": "#%%\n"
    }
   },
   "outputs": [
    {
     "data": {
      "image/png": "[encoded data removed]",
      "text/plain": [
       "<Figure size 864x432 with 4 Axes>"
      ]
     },
     "metadata": {},
     "output_type": "display_data"
    }
   ],
   "source": [
    "fig = plt.figure(figsize=(12,6))\n",
    "ax1 = fig.add_subplot(1,2,1)\n",
    "ax2 = fig.add_subplot(1,2,2)\n",
    "\n",
    "plot_confusion_matrix(model_baseline, X_test, y_test, cmap='Blues', ax=ax1)\n",
    "plot_confusion_matrix(model_rus, X_test, y_test, cmap='Blues', ax=ax2)\n",
    "plt.show()"
   ]
  },
  {
   "cell_type": "markdown",
   "metadata": {
    "slideshow": {
     "slide_type": "slide"
    },
    "pycharm": {
     "name": "#%% md\n"
    }
   },
   "source": [
    "# Comparando a matriz de confusão (Random Oversampling)"
   ]
  },
  {
   "cell_type": "code",
   "execution_count": 21,
   "metadata": {
    "scrolled": true,
    "pycharm": {
     "name": "#%%\n"
    }
   },
   "outputs": [
    {
     "data": {
      "image/png": "[encoded data removed]",
      "text/plain": [
       "<Figure size 864x432 with 4 Axes>"
      ]
     },
     "metadata": {},
     "output_type": "display_data"
    }
   ],
   "source": [
    "fig = plt.figure(figsize=(12,6))\n",
    "ax1 = fig.add_subplot(1,2,1)\n",
    "ax2 = fig.add_subplot(1,2,2)\n",
    "\n",
    "plot_confusion_matrix(model_baseline, X_test, y_test, cmap='Blues', ax=ax1)\n",
    "plot_confusion_matrix(model_ros, X_test, y_test, cmap='Blues', ax=ax2)\n",
    "plt.show()"
   ]
  },
  {
   "cell_type": "markdown",
   "metadata": {
    "slideshow": {
     "slide_type": "slide"
    },
    "pycharm": {
     "name": "#%% md\n"
    }
   },
   "source": [
    "## SMOTE\n",
    "Synthetic Minority OverSampling Technique\n",
    "\n",
    "![](imgs/smote2.png)"
   ]
  },
  {
   "cell_type": "markdown",
   "metadata": {
    "slideshow": {
     "slide_type": "slide"
    },
    "pycharm": {
     "name": "#%% md\n"
    }
   },
   "source": [
    "## K-NN\n",
    "![](imgs/knn.png)"
   ]
  },
  {
   "cell_type": "markdown",
   "metadata": {
    "slideshow": {
     "slide_type": "slide"
    },
    "pycharm": {
     "name": "#%% md\n"
    }
   },
   "source": [
    "## Criando um modelo usando SMOTE"
   ]
  },
  {
   "cell_type": "markdown",
   "source": [
    "## SMOTE\n",
    "* SMOTE (Synthetic Minority Over-sampling Technique) é uma técnica de oversampling\n",
    "* Ela funciona criando sinteticamente novos exemplos da classe minoritária, baseando-se nos exemplos existentes da classe.\n",
    "* Isso é feito escolhendo aleatoriamente um exemplo da classe minoritária e encontrando o seu k-vizinho mais próximo.\n",
    "* Então, um novo exemplo é criado adicionando uma pequena quantidade de variação entre o exemplo escolhido e seu vizinho mais próximo.\n",
    "* Isso ajuda a aumentar a representatividade da classe minoritária no conjunto de dados."
   ],
   "metadata": {
    "collapsed": false,
    "pycharm": {
     "name": "#%% md\n"
    }
   }
  },
  {
   "cell_type": "code",
   "execution_count": 22,
   "metadata": {
    "scrolled": true,
    "pycharm": {
     "name": "#%%\n"
    }
   },
   "outputs": [
    {
     "name": "stdout",
     "output_type": "stream",
     "text": [
      "Smote Oversampled dataset:  Counter({0: 15653, 1: 3130})\n"
     ]
    },
    {
     "data": {
      "text/plain": [
       "RandomForestClassifier()"
      ]
     },
     "execution_count": 22,
     "metadata": {},
     "output_type": "execute_result"
    }
   ],
   "source": [
    "## SMOTE"
   ]
  },
  {
   "cell_type": "markdown",
   "metadata": {
    "slideshow": {
     "slide_type": "slide"
    },
    "pycharm": {
     "name": "#%% md\n"
    }
   },
   "source": [
    "# Comparando a matriz de confusão (SMOTE)"
   ]
  },
  {
   "cell_type": "code",
   "execution_count": 23,
   "metadata": {
    "scrolled": false,
    "pycharm": {
     "name": "#%%\n"
    }
   },
   "outputs": [
    {
     "data": {
      "image/png": "[encoded data removed]",
      "text/plain": [
       "<Figure size 864x432 with 4 Axes>"
      ]
     },
     "metadata": {},
     "output_type": "display_data"
    }
   ],
   "source": [
    "fig = plt.figure(figsize=(12,6))\n",
    "ax1 = fig.add_subplot(1,2,1)\n",
    "ax2 = fig.add_subplot(1,2,2)\n",
    "\n",
    "plot_confusion_matrix(model_baseline, X_test, y_test, cmap='Blues', ax=ax1)\n",
    "plot_confusion_matrix(model_smote, X_test, y_test, cmap='Blues', ax=ax2)\n",
    "plt.show()"
   ]
  },
  {
   "cell_type": "code",
   "execution_count": 24,
   "metadata": {
    "slideshow": {
     "slide_type": "skip"
    },
    "pycharm": {
     "name": "#%%\n"
    }
   },
   "outputs": [],
   "source": [
    "# SKIPE FROM SLIDE\n",
    "def compare_models():\n",
    "    fig = plt.figure(figsize=(15,8))\n",
    "    ax1 = fig.add_subplot(1,2,1)\n",
    "    ax1.set_xlabel('Recall')\n",
    "    ax1.set_ylabel('Precision')\n",
    "    ax1.set_title('PR Curve')\n",
    "\n",
    "    ax2 = fig.add_subplot(1,2,2)\n",
    "    ax2.set_xlabel('False Positive Rate')\n",
    "    ax2.set_ylabel('True Positive Rate')\n",
    "    ax2.set_title('ROC Curve')\n",
    "\n",
    "    models = [model_baseline, model_weighted, model_rus, model_ros, model_smote]\n",
    "    names =  ['baseline', 'weighted', 'rus', 'ros', 'smote']\n",
    "    avg_p = []\n",
    "    roc_auc = []\n",
    "    for model,name, k in zip(models, names, 'bgrcmykw'):\n",
    "        pred_prob = model.predict_proba(X_test)[:,1]\n",
    "        p,r,_ = precision_recall_curve(y_test,pred_prob)\n",
    "\n",
    "        roc_auc.append(round(roc_auc_score(y_test, pred_prob), 3))\n",
    "        avg_p.append(round(average_precision_score(y_test, pred_prob), 3))\n",
    "\n",
    "        tpr,fpr,_ = roc_curve(y_test,pred_prob)\n",
    "        ax1.plot(r,p,c=k,label=name, alpha=0.8,  linewidth=0.7)\n",
    "        ax2.plot(tpr,fpr,c=k,label=name, alpha=0.8,  linewidth=0.7)\n",
    "\n",
    "    ax1.legend(loc='lower right')    \n",
    "    ax2.legend(loc='lower right')\n",
    "    \n",
    "    plt.show()\n",
    "    return  pd.DataFrame({'models' : names, 'avg. precision': avg_p, 'roc auc': roc_auc})"
   ]
  },
  {
   "cell_type": "markdown",
   "metadata": {
    "slideshow": {
     "slide_type": "slide"
    },
    "pycharm": {
     "name": "#%% md\n"
    }
   },
   "source": [
    "## Comparando os diferentes classificadores"
   ]
  },
  {
   "cell_type": "code",
   "execution_count": 25,
   "metadata": {
    "scrolled": false,
    "slideshow": {
     "slide_type": "-"
    },
    "pycharm": {
     "name": "#%%\n"
    }
   },
   "outputs": [
    {
     "data": {
      "image/png": "[encoded data removed]",
      "text/plain": [
       "<Figure size 1080x576 with 2 Axes>"
      ]
     },
     "metadata": {},
     "output_type": "display_data"
    }
   ],
   "source": [
    "compare_df = compare_models()"
   ]
  },
  {
   "cell_type": "markdown",
   "metadata": {
    "slideshow": {
     "slide_type": "slide"
    },
    "pycharm": {
     "name": "#%% md\n"
    }
   },
   "source": [
    "## Comparando os diferentes classificadores"
   ]
  },
  {
   "cell_type": "code",
   "execution_count": 26,
   "metadata": {
    "scrolled": true,
    "pycharm": {
     "name": "#%%\n"
    }
   },
   "outputs": [
    {
     "data": {
      "text/html": [
       "<div>\n",
       "<style scoped>\n",
       "    .dataframe tbody tr th:only-of-type {\n",
       "        vertical-align: middle;\n",
       "    }\n",
       "\n",
       "    .dataframe tbody tr th {\n",
       "        vertical-align: top;\n",
       "    }\n",
       "\n",
       "    .dataframe thead th {\n",
       "        text-align: right;\n",
       "    }\n",
       "</style>\n",
       "<table border=\"1\" class=\"dataframe\">\n",
       "  <thead>\n",
       "    <tr style=\"text-align: right;\">\n",
       "      <th></th>\n",
       "      <th>models</th>\n",
       "      <th>avg. precision</th>\n",
       "      <th>roc auc</th>\n",
       "    </tr>\n",
       "  </thead>\n",
       "  <tbody>\n",
       "    <tr>\n",
       "      <th>0</th>\n",
       "      <td>baseline</td>\n",
       "      <td>0.270</td>\n",
       "      <td>0.760</td>\n",
       "    </tr>\n",
       "    <tr>\n",
       "      <th>1</th>\n",
       "      <td>weighted</td>\n",
       "      <td>0.273</td>\n",
       "      <td>0.758</td>\n",
       "    </tr>\n",
       "    <tr>\n",
       "      <th>2</th>\n",
       "      <td>rus</td>\n",
       "      <td>0.266</td>\n",
       "      <td>0.767</td>\n",
       "    </tr>\n",
       "    <tr>\n",
       "      <th>3</th>\n",
       "      <td>ros</td>\n",
       "      <td>0.256</td>\n",
       "      <td>0.750</td>\n",
       "    </tr>\n",
       "    <tr>\n",
       "      <th>4</th>\n",
       "      <td>smote</td>\n",
       "      <td>0.272</td>\n",
       "      <td>0.757</td>\n",
       "    </tr>\n",
       "  </tbody>\n",
       "</table>\n",
       "</div>"
      ],
      "text/plain": [
       "     models  avg. precision  roc auc\n",
       "0  baseline           0.270    0.760\n",
       "1  weighted           0.273    0.758\n",
       "2       rus           0.266    0.767\n",
       "3       ros           0.256    0.750\n",
       "4     smote           0.272    0.757"
      ]
     },
     "execution_count": 26,
     "metadata": {},
     "output_type": "execute_result"
    }
   ],
   "source": [
    "compare_df"
   ]
  },
  {
   "cell_type": "markdown",
   "metadata": {
    "slideshow": {
     "slide_type": "slide"
    },
    "pycharm": {
     "name": "#%% md\n"
    }
   },
   "source": [
    "## Computando as probabilidades"
   ]
  },
  {
   "cell_type": "code",
   "execution_count": 27,
   "metadata": {
    "pycharm": {
     "name": "#%%\n"
    }
   },
   "outputs": [
    {
     "name": "stdout",
     "output_type": "stream",
     "text": [
      "Positive class probs:  [0.12 0.39 0.07 ... 0.02 0.06 0.13]\n",
      "Negative class probs:  [0.88 0.61 0.93 ... 0.98 0.94 0.87]\n",
      "class predictions (threshold 0.4):  [0 0 0 ... 0 0 0]\n"
     ]
    }
   ],
   "source": [
    "# Get predicted probabilities\n",
    "y_pred_probs = model_smote.predict_proba(X_test)\n",
    "print('Positive class probs: ', y_pred_probs[:,1])\n",
    "print('Negative class probs: ', y_pred_probs[:,0])\n",
    "\n",
    "# Get predicted class, treshold 0.4\n",
    "y_pred = (y_pred_probs[:,1] >= 0.4).astype(int)\n",
    "print('class predictions (threshold 0.4): ', y_pred)"
   ]
  },
  {
   "cell_type": "code",
   "execution_count": null,
   "metadata": {
    "pycharm": {
     "name": "#%%\n"
    }
   },
   "outputs": [],
   "source": [
    "# Testar diferentes tresholds Matriz de confusão"
   ]
  },
  {
   "cell_type": "markdown",
   "metadata": {
    "slideshow": {
     "slide_type": "slide"
    },
    "pycharm": {
     "name": "#%% md\n"
    }
   },
   "source": [
    "## Métricas de avaliação do modelo"
   ]
  },
  {
   "cell_type": "code",
   "execution_count": 28,
   "metadata": {
    "pycharm": {
     "name": "#%%\n"
    }
   },
   "outputs": [
    {
     "name": "stdout",
     "output_type": "stream",
     "text": [
      "Accuracy: 0.9079827915869981\n",
      "Precision: 0.38585858585858585\n",
      "Recall: 0.2907153729071537\n",
      "F1-Score: 0.3315972222222222\n"
     ]
    }
   ],
   "source": [
    "print('Accuracy:', accuracy_score(y_test, y_pred))\n",
    "print('Precision:', precision_score(y_test, y_pred))\n",
    "print('Recall:', recall_score(y_test, y_pred))\n",
    "print('F1-Score:', f1_score(y_test, y_pred))"
   ]
  },
  {
   "cell_type": "markdown",
   "metadata": {
    "slideshow": {
     "slide_type": "slide"
    },
    "pycharm": {
     "name": "#%% md\n"
    }
   },
   "source": [
    "## ROC Curve"
   ]
  },
  {
   "cell_type": "code",
   "execution_count": 29,
   "metadata": {
    "pycharm": {
     "name": "#%%\n"
    }
   },
   "outputs": [
    {
     "data": {
      "image/png": "[encoded data removed]",
      "text/plain": [
       "<Figure size 432x288 with 1 Axes>"
      ]
     },
     "metadata": {},
     "output_type": "display_data"
    }
   ],
   "source": [
    "plot_roc_curve(model_smote, X_test, y_test)\n",
    "plt.plot([0, 1], [0, 1], color='navy', linestyle='--')\n",
    "plt.show()  "
   ]
  },
  {
   "cell_type": "markdown",
   "metadata": {
    "pycharm": {
     "name": "#%% md\n"
    }
   },
   "source": [
    "*Questionamento*: qual é o baseline ?\n",
    "\n",
    "Vamos calcular na mão a TPR e o FPR para o baseline (chutar tudo positivo, chutart tudo zero)."
   ]
  },
  {
   "cell_type": "markdown",
   "metadata": {
    "slideshow": {
     "slide_type": "slide"
    },
    "pycharm": {
     "name": "#%% md\n"
    }
   },
   "source": [
    "## Precision Recall Curve (datasets desbalanceados)"
   ]
  },
  {
   "cell_type": "code",
   "execution_count": 30,
   "metadata": {
    "scrolled": true,
    "pycharm": {
     "name": "#%%\n"
    }
   },
   "outputs": [
    {
     "data": {
      "image/png": "[encoded data removed]",
      "text/plain": [
       "<Figure size 432x288 with 1 Axes>"
      ]
     },
     "metadata": {},
     "output_type": "display_data"
    }
   ],
   "source": [
    "disp = plot_precision_recall_curve(model_smote, X_test, y_test)\n",
    "plt.plot([0,1], [positive_proportion, positive_proportion], color='navy', linestyle='--')\n",
    "plt.show()"
   ]
  },
  {
   "cell_type": "markdown",
   "metadata": {
    "slideshow": {
     "slide_type": "slide"
    },
    "pycharm": {
     "name": "#%% md\n"
    }
   },
   "source": [
    "## Fim\n",
    "dever de casa, testar as diferentes técnicas com a regressão logistica"
   ]
  },
  {
   "cell_type": "markdown",
   "metadata": {
    "slideshow": {
     "slide_type": "skip"
    },
    "pycharm": {
     "name": "#%% md\n"
    }
   },
   "source": [
    "Materias de Apoio\n"
   ]
  },
  {
   "cell_type": "markdown",
   "metadata": {
    "slideshow": {
     "slide_type": "skip"
    },
    "pycharm": {
     "name": "#%% md\n"
    }
   },
   "source": [
    "notas\n",
    "\n",
    "* If X never equals 0, then the intercept has no intrinsic meaning. In scientific research, the purpose of a regression model is to understand the relationship between predictors and the response.  If so, and if X never = 0, there is no interest in the intercept. It doesn’t tell you anything about the relationship between X and Y."
   ]
  },
  {
   "cell_type": "code",
   "execution_count": null,
   "metadata": {
    "pycharm": {
     "name": "#%%\n"
    }
   },
   "outputs": [],
   "source": []
  }
 ],
 "metadata": {
  "celltoolbar": "Slideshow",
  "kernelspec": {
   "display_name": "Python 3",
   "language": "python",
   "name": "python3"
  },
  "language_info": {
   "codemirror_mode": {
    "name": "ipython",
    "version": 3
   },
   "file_extension": ".py",
   "mimetype": "text/x-python",
   "name": "python",
   "nbconvert_exporter": "python",
   "pygments_lexer": "ipython3",
   "version": "3.8.5"
  }
 },
 "nbformat": 4,
 "nbformat_minor": 2
}