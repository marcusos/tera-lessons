{
 "cells": [
  {
   "cell_type": "markdown",
   "source": [
    "# Aula - Balanceamento de Datasets - Tera\n",
    "* Professor: Marcus Oliveira da Silva\n",
    "* Linkedin: [marcuos](https://www.linkedin.com/in/marcuos/)\n",
    "* Dataset utilizado: [lending-club-clean](https://www.kaggle.com/datasets/marcusos/lending-club-clean)\n",
    "\n",
    "Neste notebook, será abordado o tema de balanceamento de datasets, com o objetivo de mostrar como lidar com datasets desequilibrados e como utilizar técnicas para torná-los mais equilibrados. Utilizaremos como exemplo o dataset \"Lending Club Clean\" disponível no Kaggle. Ao final, espera-se que o aluno tenha uma noção clara de como lidar com datasets desequilibrados e como utilizar técnicas de balanceamento."
   ],
   "metadata": {
    "collapsed": false,
    "pycharm": {
     "name": "#%% md\n"
    }
   }
  },
  {
   "cell_type": "markdown",
   "source": [
    "## O que veremos hoje\n",
    "**Bloco 1**\n",
    "- Case e contexto de negócio\n",
    "- Revisão do Preicision e do Recall\n",
    "- Curva do PR e PR AUC\n",
    "\n",
    "**Bloco 2**\n",
    "- Carregando e limpando o dataset\n",
    "- Pre-processamento dos dados\n",
    "- Implementação do modelo\n",
    "\n",
    "**Bloco 3**\n",
    "- Class weight e hiperparâmetros\n",
    "- Resampling\n",
    "- Under e Over sampling\n",
    "- Smote\n",
    "\n",
    "**Bloco 4**\n",
    "- Comparando os modelos\n",
    "- Dúvidas"
   ],
   "metadata": {
    "collapsed": false,
    "pycharm": {
     "name": "#%% md\n"
    }
   }
  },
  {
   "cell_type": "markdown",
   "source": [
    "## Baixando o dataset\n",
    "* Baixar o dataset `lending_club_smaller_sample.feather` para dentro da pasta `data` [link do dataset](https://www.kaggle.com/datasets/marcusos/lending-club-clean?select=lending_club_smaller_sample.feather)\n",
    "* Dezipar o arquivo `lending_club_smaller_sample.feather.zip` dentro da pasta data\n",
    "* Agora você deve ver o arquivo"
   ],
   "metadata": {
    "collapsed": false,
    "pycharm": {
     "name": "#%% md\n"
    }
   }
  },
  {
   "cell_type": "markdown",
   "source": [
    "Para quem usa Linux ou Mac, é possível dezipar usando a seguinde linha de comando:"
   ],
   "metadata": {
    "collapsed": false,
    "pycharm": {
     "name": "#%% md\n"
    }
   }
  },
  {
   "cell_type": "code",
   "execution_count": 7,
   "outputs": [
    {
     "name": "stdout",
     "output_type": "stream",
     "text": [
      "Archive:  data/lending_club_smaller_sample.feather.zip\r\n",
      "  inflating: data/lending_club_smaller_sample.feather  \r\n"
     ]
    }
   ],
   "source": [
    "!unzip data/lending_club_smaller_sample.feather.zip -d data/"
   ],
   "metadata": {
    "collapsed": false,
    "pycharm": {
     "name": "#%%\n"
    }
   }
  },
  {
   "cell_type": "markdown",
   "source": [
    "## Contexto de negócio\n",
    "A empresa MyBank, visando expandir sua operação, deseja comprar uma carteira de clientes de um emissora de cartão de crédito com sede em Taiwan. Como parte do contrato a MyBank deseja revisar a política de crédito para pelo menos **50% dos possíveis futuros inadimplentes** (ajustar limite e taxa de juros). Além disso, para melhor precificar a compra ela **deseja saber a perda esperada dessa carteira no próximo mês**.\n",
    "\n",
    "Você é um consultor de Data Science contratado pela MyBank para auxiliar a empresa durante essa aquisição.\n",
    "\n",
    "**Objetivos**:\n",
    "- Criar um modelo de probabilidade de inadimplência usando os dados históricos da operadora taiwanese\n",
    "- Precificar a perda esperada da nova carteira de clientes"
   ],
   "metadata": {
    "collapsed": false,
    "pycharm": {
     "name": "#%% md\n"
    }
   }
  },
  {
   "cell_type": "markdown",
   "source": [
    "## Importando as bibliotecas"
   ],
   "metadata": {
    "collapsed": false,
    "pycharm": {
     "name": "#%% md\n"
    }
   }
  },
  {
   "cell_type": "code",
   "execution_count": null,
   "outputs": [],
   "source": [
    "import"
   ],
   "metadata": {
    "collapsed": false,
    "pycharm": {
     "name": "#%%\n"
    }
   }
  }
 ],
 "metadata": {
  "kernelspec": {
   "display_name": "Python 3",
   "language": "python",
   "name": "python3"
  },
  "language_info": {
   "codemirror_mode": {
    "name": "ipython",
    "version": 2
   },
   "file_extension": ".py",
   "mimetype": "text/x-python",
   "name": "python",
   "nbconvert_exporter": "python",
   "pygments_lexer": "ipython2",
   "version": "2.7.6"
  }
 },
 "nbformat": 4,
 "nbformat_minor": 0
}